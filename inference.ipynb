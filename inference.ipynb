{
 "cells": [
  {
   "cell_type": "markdown",
   "metadata": {},
   "source": [
    "## Import Libraries "
   ]
  },
  {
   "cell_type": "code",
   "execution_count": 1,
   "metadata": {},
   "outputs": [],
   "source": [
    "import os\n",
    "os.environ[\"CUDA_VISIBLE_DEVICES\"]=\"2\""
   ]
  },
  {
   "cell_type": "code",
   "execution_count": 2,
   "metadata": {},
   "outputs": [],
   "source": [
    "#!/usr/bin/env python\n",
    "from __future__ import print_function\n",
    "import numpy\n",
    "import numpy as np\n",
    "import pandas as pd\n",
    "import matplotlib.pyplot as plt\n",
    "import h5py\n",
    "from time import time\n",
    "from tensorflow import keras\n",
    "import tensorflow as tf\n",
    "from tensorflow.keras import backend as K\n",
    "from tensorflow.keras.optimizers import Adam"
   ]
  },
  {
   "cell_type": "code",
   "execution_count": 3,
   "metadata": {},
   "outputs": [
    {
     "name": "stdout",
     "output_type": "stream",
     "text": [
      "1.14.0\n",
      "2.2.4-tf\n"
     ]
    }
   ],
   "source": [
    "print(tf.__version__)\n",
    "print(keras.__version__)"
   ]
  },
  {
   "cell_type": "markdown",
   "metadata": {},
   "source": [
    "## Load Model "
   ]
  },
  {
   "cell_type": "code",
   "execution_count": 5,
   "metadata": {},
   "outputs": [
    {
     "name": "stderr",
     "output_type": "stream",
     "text": [
      "/home/khan74/.conda/envs/gwsurr/lib/python3.6/site-packages/tensorflow/python/keras/layers/core.py:891: UserWarning: training_utils is not loaded, but a Lambda layer uses it. It may cause errors.\n",
      "  , UserWarning)\n"
     ]
    }
   ],
   "source": [
    "model = keras.models.load_model('model_19-0.00.h5')"
   ]
  },
  {
   "cell_type": "markdown",
   "metadata": {},
   "source": [
    "## Load Test Data "
   ]
  },
  {
   "cell_type": "code",
   "execution_count": 6,
   "metadata": {},
   "outputs": [],
   "source": [
    "file_path = '/home/khan74/project/SMR_BBM/data/test.hdf5'\n",
    "f = h5py.File(file_path, 'r')\n",
    "keys = list(f.keys())\n",
    "dset = f[keys[0]] # waveforms\n",
    "lset = f[keys[1]] # Ground Truth labels: q, s1, s2\n",
    "\n",
    "data = dset[:100]  # load first ten samlples\n",
    "data = data.reshape([data.shape[0], data.shape[1], 1])\n",
    "\n",
    "f.close()"
   ]
  },
  {
   "cell_type": "markdown",
   "metadata": {},
   "source": [
    "## Predict "
   ]
  },
  {
   "cell_type": "code",
   "execution_count": 7,
   "metadata": {},
   "outputs": [],
   "source": [
    "p_q, p_ap = model.predict(data, batch_size=2)"
   ]
  },
  {
   "cell_type": "code",
   "execution_count": 8,
   "metadata": {},
   "outputs": [],
   "source": [
    "predictions = np.hstack([p_q, p_ap])"
   ]
  },
  {
   "cell_type": "markdown",
   "metadata": {},
   "source": [
    "#### Convert to dataframe "
   ]
  },
  {
   "cell_type": "code",
   "execution_count": 9,
   "metadata": {},
   "outputs": [],
   "source": [
    "predictions_df = pd.DataFrame(data=predictions,\n",
    "                             columns=['q', 's1', 's2', 'chi', 'S_eff'])"
   ]
  },
  {
   "cell_type": "markdown",
   "metadata": {},
   "source": [
    "Were:\n",
    "\n",
    "- q is mass ratio\n",
    "- s1 is spin of primary\n",
    "- s2 is spin of secondary\n",
    "\n",
    "\n",
    "- chi is $$ \\chi_{eff} = \\frac{m_1s_1 + m_2 s_2}{m_1 + m_2} =  \\frac{ q s_1 + s_2 }{q + 1} $$\n",
    "\n",
    "\n",
    "- S_eff is $$ S^{eff} = \\sigma_1 s_1 + \\sigma_2 s_2 $$\n",
    "\n",
    "        - where       \n",
    "$$ \\sigma_1 = 1 + \\frac{3}{4} \\frac{m_2}{m_1} =  1 + \\frac{3}{4q} $$  \n",
    "        - and          \n",
    "$$ \\sigma_2 = 1 + \\frac{3}{4} \\frac{m_1}{m_2} =  1 + \\frac{3q}{4} $$"
   ]
  },
  {
   "cell_type": "code",
   "execution_count": 10,
   "metadata": {},
   "outputs": [
    {
     "data": {
      "text/html": [
       "<div>\n",
       "<style scoped>\n",
       "    .dataframe tbody tr th:only-of-type {\n",
       "        vertical-align: middle;\n",
       "    }\n",
       "\n",
       "    .dataframe tbody tr th {\n",
       "        vertical-align: top;\n",
       "    }\n",
       "\n",
       "    .dataframe thead th {\n",
       "        text-align: right;\n",
       "    }\n",
       "</style>\n",
       "<table border=\"1\" class=\"dataframe\">\n",
       "  <thead>\n",
       "    <tr style=\"text-align: right;\">\n",
       "      <th></th>\n",
       "      <th>q</th>\n",
       "      <th>s1</th>\n",
       "      <th>s2</th>\n",
       "      <th>chi</th>\n",
       "      <th>S_eff</th>\n",
       "    </tr>\n",
       "  </thead>\n",
       "  <tbody>\n",
       "    <tr>\n",
       "      <th>0</th>\n",
       "      <td>1.336917</td>\n",
       "      <td>-0.871400</td>\n",
       "      <td>-0.677907</td>\n",
       "      <td>-0.765067</td>\n",
       "      <td>-2.894305</td>\n",
       "    </tr>\n",
       "    <tr>\n",
       "      <th>1</th>\n",
       "      <td>1.165531</td>\n",
       "      <td>-0.837524</td>\n",
       "      <td>-0.714918</td>\n",
       "      <td>-0.767969</td>\n",
       "      <td>-2.924671</td>\n",
       "    </tr>\n",
       "    <tr>\n",
       "      <th>2</th>\n",
       "      <td>1.053830</td>\n",
       "      <td>-0.872219</td>\n",
       "      <td>-0.637561</td>\n",
       "      <td>-0.763909</td>\n",
       "      <td>-2.754155</td>\n",
       "    </tr>\n",
       "    <tr>\n",
       "      <th>3</th>\n",
       "      <td>1.063442</td>\n",
       "      <td>-0.749734</td>\n",
       "      <td>-0.713964</td>\n",
       "      <td>-0.732895</td>\n",
       "      <td>-2.780643</td>\n",
       "    </tr>\n",
       "    <tr>\n",
       "      <th>4</th>\n",
       "      <td>1.096151</td>\n",
       "      <td>-0.778480</td>\n",
       "      <td>-0.734360</td>\n",
       "      <td>-0.748120</td>\n",
       "      <td>-2.699069</td>\n",
       "    </tr>\n",
       "  </tbody>\n",
       "</table>\n",
       "</div>"
      ],
      "text/plain": [
       "          q        s1        s2       chi     S_eff\n",
       "0  1.336917 -0.871400 -0.677907 -0.765067 -2.894305\n",
       "1  1.165531 -0.837524 -0.714918 -0.767969 -2.924671\n",
       "2  1.053830 -0.872219 -0.637561 -0.763909 -2.754155\n",
       "3  1.063442 -0.749734 -0.713964 -0.732895 -2.780643\n",
       "4  1.096151 -0.778480 -0.734360 -0.748120 -2.699069"
      ]
     },
     "execution_count": 10,
     "metadata": {},
     "output_type": "execute_result"
    }
   ],
   "source": [
    "predictions_df.head()"
   ]
  }
 ],
 "metadata": {
  "kernelspec": {
   "display_name": "Python 3",
   "language": "python",
   "name": "python3"
  },
  "language_info": {
   "codemirror_mode": {
    "name": "ipython",
    "version": 3
   },
   "file_extension": ".py",
   "mimetype": "text/x-python",
   "name": "python",
   "nbconvert_exporter": "python",
   "pygments_lexer": "ipython3",
   "version": "3.6.8"
  }
 },
 "nbformat": 4,
 "nbformat_minor": 2
}
